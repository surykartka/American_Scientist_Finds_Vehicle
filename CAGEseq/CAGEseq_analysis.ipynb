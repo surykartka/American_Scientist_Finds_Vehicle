{
 "cells": [
  {
   "cell_type": "code",
   "execution_count": 62,
   "metadata": {},
   "outputs": [],
   "source": [
    "import seaborn\n",
    "import matplotlib.pyplot as plt\n",
    "import math\n",
    "import os\n",
    "import numpy"
   ]
  },
  {
   "cell_type": "code",
   "execution_count": 1,
   "metadata": {},
   "outputs": [],
   "source": [
    "def read_bedgraph(bedgraph):\n",
    "    res = []\n",
    "    last = 0\n",
    "    for line in open(bedgraph):\n",
    "        tab = line.split()\n",
    "        end = int(tab[2])\n",
    "        for _ in range(last, end):\n",
    "            res.append(float(tab[3]))\n",
    "            last = end\n",
    "    return res"
   ]
  },
  {
   "cell_type": "code",
   "execution_count": 2,
   "metadata": {},
   "outputs": [],
   "source": [
    "early_R1_plus = read_bedgraph('Early-5h/S1-5h_5cov+.bedgraph')\n",
    "early_R1_minus = read_bedgraph('Early-5h/S1-5h_5cov-.bedgraph')\n",
    "early_R2_plus = read_bedgraph('Early-5h/S2-5h_5cov+.bedgraph')\n",
    "early_R2_minus = read_bedgraph('Early-5h/S2-5h_5cov-.bedgraph')\n",
    "late_R1_plus = read_bedgraph('Late-16h/S3-16h_5cov+.bedgraph')\n",
    "late_R1_minus = read_bedgraph('Late-16h/S3-16h_5cov-.bedgraph')\n",
    "late_R2_plus = read_bedgraph('Late-16h/S4-16h_5cov+.bedgraph')\n",
    "late_R2_minus = read_bedgraph('Late-16h/S4-16h_5cov-.bedgraph')"
   ]
  },
  {
   "cell_type": "code",
   "execution_count": 20,
   "metadata": {},
   "outputs": [],
   "source": [
    "def get_peaks(vector, window_size=10, min_height=10):\n",
    "    peaks = []\n",
    "    for i in range(len(vector) - window_size + 1):\n",
    "        values = vector[i: i+window_size]\n",
    "        max_value = -1; max_pos = -1\n",
    "        for index,value in enumerate(values):\n",
    "            if value > max_value:\n",
    "                max_value = value\n",
    "                max_pos = i + index        \n",
    "        if max_value >= min_height:\n",
    "            if peaks:\n",
    "                prev_max, prev_pos = peaks[-1]\n",
    "                if max_pos - prev_pos >= window_size:\n",
    "                    peaks.append((max_value, max_pos))\n",
    "                else:\n",
    "                    if prev_max < max_value:\n",
    "                        peaks.pop()\n",
    "                        peaks.append((max_value, max_pos))\n",
    "            else:\n",
    "                peaks.append((max_value, max_pos))\n",
    "    return peaks"
   ]
  },
  {
   "cell_type": "code",
   "execution_count": 21,
   "metadata": {},
   "outputs": [],
   "source": [
    "## check correspondence\n",
    "def check_correspondence(values1, values2, distance=10):\n",
    "    if len(values1) > len(values2):\n",
    "        values1, values2 = values2, values1\n",
    "    matching_v2 = []\n",
    "    for v2 in values2:\n",
    "        for v1 in values1:\n",
    "            if abs(v1[1] - v2[1]) <= distance:\n",
    "                matching_v2.append(v2)\n",
    "                break\n",
    "    return len(matching_v2) / len(values2)"
   ]
  },
  {
   "cell_type": "code",
   "execution_count": 40,
   "metadata": {},
   "outputs": [],
   "source": [
    "def read_genes(gff='Genome Info/U18466.2.gff3', out_bedfile='Genome Info/U18466.2_genes.bed'):\n",
    "    genes = []\n",
    "    with open(out_bedfile, 'w') as f:\n",
    "        for line in open(gff):\n",
    "            tab = line.split('\\t')\n",
    "            if len(tab) < 2:\n",
    "                continue\n",
    "            if tab[2] == 'gene':\n",
    "                start, end, strand = int(tab[3]), int(tab[4]), tab[6]\n",
    "                name = tab[8].split('Name=')[1].split(';')[0]\n",
    "                genes.append((start, end, strand, name))\n",
    "                print(tab[0], start-1, end-1, name, '.', tab[6], sep='\\t', file=f)\n",
    "    return genes\n",
    "\n",
    "genes = read_genes()       "
   ]
  },
  {
   "cell_type": "code",
   "execution_count": 59,
   "metadata": {},
   "outputs": [],
   "source": [
    "## get subset of genes with mapped start sites\n",
    "def get_genes_starts(genes, peaks):\n",
    "    tmp_start = 'tmp_tss.bed'\n",
    "    with open(tmp_start, 'w') as f:\n",
    "        peaks.sort(key=lambda x: x[0])\n",
    "        for start, strand, value in peaks:\n",
    "            print('U18466.2', start-1, start, '.', value, strand, sep='\\t', file=f)\n",
    "    cmd = 'bedtools closest -s -D a -io -iu -a \"%s\" -b \"%s\" > tmp' % (tmp_start, 'Genome Info/U18466.2_genes.bed')\n",
    "    os.system(cmd)\n",
    "    gene2tss = {}\n",
    "    for line in open('tmp'):\n",
    "        tab = line.split()\n",
    "        if tab[9] not in gene2tss:\n",
    "            gene2tss[tab[9]] = []\n",
    "        gene2tss[tab[9]].append((int(tab[2]), float(tab[4])))\n",
    "    return gene2tss\n",
    "\n",
    "def sum_peaks(peaks_plus, peaks_minus):\n",
    "    peaks_total = []\n",
    "    for p in peaks_plus:\n",
    "        peaks_total.append((p[1], '+', p[0]))\n",
    "    for p in peaks_minus:\n",
    "        peaks_total.append((p[1], '-', p[0]))\n",
    "    return peaks_total "
   ]
  },
  {
   "cell_type": "code",
   "execution_count": 88,
   "metadata": {},
   "outputs": [
    {
     "name": "stdout",
     "output_type": "stream",
     "text": [
      "min height: 5 & window size: 3\n",
      "n genes mapped in all replicates: 153 (early: 129, late: 153)\n",
      "median number of TSSs mapped: 12 (early: 2)\n",
      "minimum correspondence between replicates: 0.81\n",
      "\n",
      "min height: 5 & window size: 5\n",
      "n genes mapped in all replicates: 153 (early: 128, late: 153)\n",
      "median number of TSSs mapped: 10 (early: 2)\n",
      "minimum correspondence between replicates: 0.77\n",
      "\n",
      "min height: 5 & window size: 10\n",
      "n genes mapped in all replicates: 153 (early: 128, late: 153)\n",
      "median number of TSSs mapped: 8 (early: 2)\n",
      "minimum correspondence between replicates: 0.75\n",
      "\n",
      "min height: 10 & window size: 3\n",
      "n genes mapped in all replicates: 152 (early: 108, late: 152)\n",
      "median number of TSSs mapped: 8 (early: 2)\n",
      "minimum correspondence between replicates: 0.82\n",
      "\n",
      "min height: 10 & window size: 5\n",
      "n genes mapped in all replicates: 152 (early: 108, late: 152)\n",
      "median number of TSSs mapped: 7 (early: 1)\n",
      "minimum correspondence between replicates: 0.79\n",
      "\n",
      "min height: 10 & window size: 10\n",
      "n genes mapped in all replicates: 152 (early: 108, late: 152)\n",
      "median number of TSSs mapped: 6 (early: 1)\n",
      "minimum correspondence between replicates: 0.78\n",
      "\n",
      "min height: 20 & window size: 3\n",
      "n genes mapped in all replicates: 150 (early: 96, late: 150)\n",
      "median number of TSSs mapped: 6 (early: 1)\n",
      "minimum correspondence between replicates: 0.92\n",
      "\n",
      "min height: 20 & window size: 5\n",
      "n genes mapped in all replicates: 150 (early: 96, late: 150)\n",
      "median number of TSSs mapped: 5 (early: 1)\n",
      "minimum correspondence between replicates: 0.91\n",
      "\n",
      "min height: 20 & window size: 10\n",
      "n genes mapped in all replicates: 150 (early: 96, late: 150)\n",
      "median number of TSSs mapped: 4 (early: 1)\n",
      "minimum correspondence between replicates: 0.90\n",
      "\n",
      "min height: 30 & window size: 3\n",
      "n genes mapped in all replicates: 150 (early: 84, late: 150)\n",
      "median number of TSSs mapped: 5 (early: 1)\n",
      "minimum correspondence between replicates: 0.93\n",
      "\n",
      "min height: 30 & window size: 5\n",
      "n genes mapped in all replicates: 150 (early: 84, late: 150)\n",
      "median number of TSSs mapped: 4 (early: 1)\n",
      "minimum correspondence between replicates: 0.91\n",
      "\n",
      "min height: 30 & window size: 10\n",
      "n genes mapped in all replicates: 150 (early: 84, late: 150)\n",
      "median number of TSSs mapped: 4 (early: 1)\n",
      "minimum correspondence between replicates: 0.90\n",
      "\n"
     ]
    }
   ],
   "source": [
    "## get max from a window\n",
    "for min_height in [5,10,20,30]:\n",
    "    for window_size in [3,5,10]:\n",
    "        peaks = {}\n",
    "        gene2tss = {}\n",
    "        \n",
    "        peaks['early R1 plus'] = get_peaks(early_R1_plus, window_size, min_height)\n",
    "        peaks['early R1 minus'] = get_peaks(early_R1_minus, window_size, min_height)\n",
    "        gene2tss['early R1'] = get_genes_starts(genes, sum_peaks(peaks['early R1 plus'], peaks['early R1 minus']))\n",
    "        \n",
    "        peaks['early R2 plus'] = get_peaks(early_R2_plus, window_size, min_height)\n",
    "        peaks['early R2 minus'] = get_peaks(early_R2_minus, window_size, min_height)\n",
    "        gene2tss['early R2'] = get_genes_starts(genes, sum_peaks(peaks['early R2 plus'], peaks['early R2 minus']))\n",
    "\n",
    "        peaks['late R1 plus'] = get_peaks(late_R1_plus, window_size, min_height)\n",
    "        peaks['late R1 minus'] = get_peaks(late_R1_minus, window_size, min_height)\n",
    "        gene2tss['late R1'] = get_genes_starts(genes, sum_peaks(peaks['late R1 plus'], peaks['late R1 minus']))\n",
    " \n",
    "        peaks['late R2 plus'] = get_peaks(late_R2_plus, window_size, min_height)\n",
    "        peaks['late R2 minus'] = get_peaks(late_R2_minus, window_size, min_height)\n",
    "        gene2tss['late R2'] = get_genes_starts(genes, sum_peaks(peaks['late R2 plus'], peaks['late R2 minus']))\n",
    "\n",
    "        print('min height:', min_height, '& window size:', window_size)\n",
    "        all_genes = set(); late_genes = set(); early_genes = set(); ntss = []; early_genes_ntss = []\n",
    "        for k in gene2tss:\n",
    "            all_genes.update(set(gene2tss[k].keys()))\n",
    "            if 'late' in k:\n",
    "                late_genes.update(set(gene2tss[k].keys()))\n",
    "            elif 'early' in k:\n",
    "                early_genes.update(set(gene2tss[k].keys()))\n",
    "                early_genes_ntss += [len(gene2tss[k][x]) for x in gene2tss[k]]\n",
    "            ntss += [len(gene2tss[k][x]) for x in gene2tss[k]]\n",
    "\n",
    "        print('n genes mapped in all replicates: %d (early: %d, late: %d)' % (len(all_genes), \n",
    "                                                                              len(early_genes), len(late_genes)))\n",
    "        print('median number of TSSs mapped: %d (early: %d)' % (numpy.median(ntss), \n",
    "                                                                   numpy.median(early_genes_ntss)))\n",
    "        correspondeces = [check_correspondence(peaks['early R1 plus'], peaks['early R2 plus']),\n",
    "                          check_correspondence(peaks['early R1 minus'], peaks['early R2 minus']),\n",
    "                          check_correspondence(peaks['late R1 plus'], peaks['late R2 plus']),\n",
    "                          check_correspondence(peaks['late R1 minus'], peaks['late R2 minus'])\n",
    "                         ]\n",
    "        print('minimum correspondence between replicates: %.2f' % min(correspondeces))  \n",
    "        print()\n"
   ]
  },
  {
   "cell_type": "code",
   "execution_count": 28,
   "metadata": {},
   "outputs": [
    {
     "data": {
      "image/png": "[encoded data removed]",
      "text/plain": [
       "<Figure size 432x288 with 1 Axes>"
      ]
     },
     "metadata": {},
     "output_type": "display_data"
    }
   ],
   "source": [
    "fig, ax = plt.subplots()\n",
    "ax.hist(early_R2, 50)\n",
    "ax.set_yscale('log')"
   ]
  },
  {
   "cell_type": "code",
   "execution_count": null,
   "metadata": {},
   "outputs": [],
   "source": []
  }
 ],
 "metadata": {
  "kernelspec": {
   "display_name": "Python 3",
   "language": "python",
   "name": "python3"
  },
  "language_info": {
   "codemirror_mode": {
    "name": "ipython",
    "version": 3
   },
   "file_extension": ".py",
   "mimetype": "text/x-python",
   "name": "python",
   "nbconvert_exporter": "python",
   "pygments_lexer": "ipython3",
   "version": "3.6.5"
  }
 },
 "nbformat": 4,
 "nbformat_minor": 2
}
